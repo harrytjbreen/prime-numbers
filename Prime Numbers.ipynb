{
 "cells": [
  {
   "cell_type": "markdown",
   "metadata": {},
   "source": [
    "# Prime Numbers\n",
    "\n",
    "## Method 1 - Modulo\n",
    "\n",
    "I first thought about what defines a prime number. A prime number is one with 2 roots, 1 and itself. So my first attempt to find if a given number is prime would be to loop through all the numbers between 1 to that number exclusivly, and using the modulo operation, I would be able to determine if any number is not prime as they would divide evenly into one of the numbers, giving a modulo result of 0, for example to determine if 9 was prime we would calculate the following:\n",
    "\n",
    "    9 % 2 = 1\n",
    "    9 % 3 = 0\n",
    "\n",
    "As one of the calculations equals 0, we know that 3 is a factor of 9, so we know 9 is not prime. If we exhaust all possible factors and none of them modulo to 0, we know the number is prime.\n",
    "\n",
    "Unfortunatly this method is not very efficient as we do a lot of unnecessary calculations, which results in this having a very poor time complexity.\n",
    "\n",
    "The big O complexity for this algorithm closely resembles <b>O(N<sup>2</sup>)</b>"
   ]
  },
  {
   "cell_type": "code",
   "execution_count": 2,
   "metadata": {},
   "outputs": [
    {
     "name": "stdout",
     "output_type": "stream",
     "text": [
      "[2, 3, 5, 7, 11, 13, 17, 19, 23, 29, 31, 37, 41, 43, 47, 53, 59, 61, 67, 71, 73, 79, 83, 89, 97]\n"
     ]
    }
   ],
   "source": [
    "def get_primes_v1(limit):\n",
    "  prime = [i for i in range(limit + 1)]\n",
    "  # As the index for each item is the same as the array we\n",
    "  # Can use each value as it's own index\n",
    "  for i in prime:\n",
    "    for j in range(2, prime[i]+1):\n",
    "      if prime[i] % j == 0:\n",
    "        prime[i] = False\n",
    "  # As 1, which is in the second position of the array, isn't filtered out we must set it manually\n",
    "  prime[1] = False\n",
    "  # This removes all \"falsey\" values, including 0, which isnt prime\n",
    "  return list(filter(None, prime))\n",
    "\n",
    "print(get_primes_v1(100))"
   ]
  },
  {
   "cell_type": "markdown",
   "metadata": {},
   "source": [
    "## Method 2 - Lowering the amount of modulo calculations\n",
    "\n",
    "In trying to make the algorithm more efficient I started to look at ways to minimize the amount of modulo calculations per number. I started to look at non prime numbers for example 42, the Factors which make up 42 are:\n",
    "\n",
    "    1 x 42      7 x 6\n",
    "    2 x 21     14 x 3\n",
    "    3 x 14     21 x 2\n",
    "    6 x 7      42 x 1\n",
    "    \n",
    "As these numbers flip 1/2 way through, we only need to calculate the modulo of the first half of the numbers to work out if a number is prime.\n",
    "\n",
    "This method still isn't as efficient as I would like as it only halfs the time complexity, meaning this algorithm is still too slow."
   ]
  },
  {
   "cell_type": "code",
   "execution_count": 3,
   "metadata": {},
   "outputs": [
    {
     "name": "stdout",
     "output_type": "stream",
     "text": [
      "[2, 3, 5, 7, 11, 13, 17, 19, 23, 29, 31, 37, 41, 43, 47, 53, 59, 61, 67, 71, 73, 79, 83, 89, 97]\n"
     ]
    }
   ],
   "source": [
    "def get_primes_v2(limit):\n",
    "  prime = [i for i in range(limit + 1)]\n",
    "  for i in prime:\n",
    "    for j in range(2, int(prime[i] / 2 + 1)):\n",
    "      if prime[i] % j == 0:\n",
    "        prime[i] = False\n",
    "  prime[1] = False\n",
    "  return list(filter(None, prime))\n",
    "\n",
    "print(get_primes_v2(100))"
   ]
  },
  {
   "cell_type": "markdown",
   "metadata": {},
   "source": [
    "## Method 3 - The roots\n",
    "\n",
    "Following on my thinking from Method 2, I decided to break down a square number into its factors, using 36 as an example:\n",
    "\n",
    "    1 x 36      6 x 6\n",
    "    2 x 18      9 x 4\n",
    "    3 x 12     12 x 3\n",
    "    4 x 9      18 x 2\n",
    "    6 x 6      36 x 1\n",
    "    \n",
    "From this I hypothesised that the flipping of the Factor pairs would be at the root of the number, in this case 6. This would dramatically reduce the number of calculations to determine if a given number is prime. \n",
    "\n",
    "In order to make sure I was right I tested my theory with 42:\n",
    "\n",
    "    1 x 42      7 x 6\n",
    "    2 x 21     14 x 3\n",
    "    3 x 14     21 x 2\n",
    "    6 x 7      42 x 1\n",
    "    \n",
    "I should expect the root to be between 6 and 7, which it is at 6.481. From this I managed to further optimise the function and make it calculate the roots much faster.\n",
    "\n",
    "This method is far more efficient than the one before it as it scales really well to the higher numbers as the time complexity is far better, more close to <b>O(N)</b> than the original method of <b>O(N<sup>2</sup>)<b/>."
   ]
  },
  {
   "cell_type": "code",
   "execution_count": 4,
   "metadata": {},
   "outputs": [
    {
     "name": "stdout",
     "output_type": "stream",
     "text": [
      "[2, 3, 5, 7, 11, 13, 17, 19, 23, 29, 31, 37, 41, 43, 47, 53, 59, 61, 67, 71, 73, 79, 83, 89, 97]\n"
     ]
    }
   ],
   "source": [
    "def get_primes_v3(limit):\n",
    "  prime = [i for i in range(limit + 1)]\n",
    "  for i in prime:\n",
    "    for j in range(2, int(prime[i] ** 0.5 + 1)):\n",
    "      if prime[i] % j == 0:\n",
    "        prime[i] = False\n",
    "  prime[1] = False\n",
    "  return list(filter(None, prime))\n",
    "\n",
    "print(get_primes_v3(100))"
   ]
  },
  {
   "cell_type": "markdown",
   "metadata": {},
   "source": [
    "## Method 4 - Removing Even numbers\n",
    "\n",
    "As all even numbers, excpet 2 are not prime, we can omit them from the original List and only Modulo with odd numbers to half the number of calculations in each irreration, and also half the number of itterations needed. This would lower the number of calculations in total by a factor of 4, and as a result the time to compute would also be lowered by a factor of 4.\n",
    "\n",
    "This is a good improvement on the roots method, pushing it even closer to <b>O(N)</b>. However I would ideally like an algorithm that was <b>O(N)</b> or faster."
   ]
  },
  {
   "cell_type": "code",
   "execution_count": 5,
   "metadata": {},
   "outputs": [
    {
     "name": "stdout",
     "output_type": "stream",
     "text": [
      "[2, 3, 5, 7, 11, 13, 17, 19, 23, 29, 31, 37, 41, 43, 47, 53, 59, 61, 67, 71, 73, 79, 83, 89, 97]\n"
     ]
    }
   ],
   "source": [
    "def get_primes_v4(limit):\n",
    "  prime = [value for value in range(1, limit + 1, 2)]\n",
    "  for i in range(len(prime)):\n",
    "    for j in range(3, int(prime[i] ** 0.5 + 1), 2):\n",
    "      if prime[i] % j == 0:\n",
    "        prime[i] = False\n",
    "  # We still need to filter out one, but also add 2 as we ignored all even numbers\n",
    "  # So we replace 1 with 2 to make the output correct\n",
    "  prime[0] = 2\n",
    "  return list(filter(None, prime))\n",
    "\n",
    "print(get_primes_v4(100))"
   ]
  },
  {
   "cell_type": "markdown",
   "metadata": {},
   "source": [
    "## Method 5 - Removing multiples of numbers\n",
    "\n",
    "I decided to try think of a completely new way of trying to solve this problem instead of trying to further optimise my current method as I feel it cant be optimised much further, if at all. I thought again about the definition of a prime number and decided that it would be a better idea to itterate over all the number from 1 to the root of the limit exclusivly and remove all of the multiples of that number as they won't be prime.\n",
    "\n",
    "    [1,2,3,4,5,6,7,8,9,10,11,12,13,14,15,16,17,18,19,20] -> We remove all multiples of 2\n",
    "    [1,2,3,5,7,9,11,13,15,17,19] -> Then all multiples of 3\n",
    "    [1,2,3,5,7,11,13,17,19] -> If we do this up to the root of the Largest number, we will be left with all primes \n",
    "\n",
    "This method is faster because instead of checking if a number is prime by exhausing all possible factors, we are removing the multiples which means that each number will require far less calculations to determine whether they are prime, giving us a time complexity close to <b>O(N log(N))</b>"
   ]
  },
  {
   "cell_type": "code",
   "execution_count": 6,
   "metadata": {},
   "outputs": [
    {
     "name": "stdout",
     "output_type": "stream",
     "text": [
      "[2, 3, 5, 7, 11, 13, 17, 19, 23, 29, 31, 37, 41, 43, 47, 53, 59, 61, 67, 71, 73, 79, 83, 89, 97]\n"
     ]
    }
   ],
   "source": [
    "def get_primes_v5(limit):\n",
    "  prime = [i for i in range(limit + 1)]\n",
    "  for i in range(2, int(limit ** 0.5) + 1):\n",
    "    for j in range(i * 2, limit + 1, i):\n",
    "      prime[j] = False\n",
    "  # Again 1 isnt filtered out so we must remove it manually\n",
    "  prime[1] = False\n",
    "  return list(filter(None, prime))\n",
    "\n",
    "print(get_primes_v5(100))"
   ]
  },
  {
   "cell_type": "markdown",
   "metadata": {},
   "source": [
    "## Speed Comparison\n",
    "\n",
    "I ran each program to find the prime numbers from 0 to 20000, which will allow me to demonstrate the efficiency of the later algorithms as they scale very well to these larger values"
   ]
  },
  {
   "cell_type": "code",
   "execution_count": 11,
   "metadata": {},
   "outputs": [
    {
     "name": "stdout",
     "output_type": "stream",
     "text": [
      "Time for Method 1 29.6648 Seconds\n",
      "Time for Method 2 14.633 Seconds\n",
      "Time for Method 3 0.2546 Seconds\n",
      "Time for Method 4 0.0678 Seconds\n",
      "Time for Method 5 0.007979 Seconds\n",
      "Time for Method 5 to get to 100 Million 8.424109 Seconds\n"
     ]
    }
   ],
   "source": [
    "import time\n",
    "\n",
    "num = 20000\n",
    "\n",
    "# If you want to change the num and run this again make sure you rerun all the other Cells\n",
    "# Otherwise the functions wont be defined\n",
    "\n",
    "t0 = time.time()\n",
    "get_primes_v1(num)\n",
    "print(\"Time for Method 1\", round(time.time() - t0, 4), \"Seconds\")\n",
    "\n",
    "t0 = time.time()\n",
    "get_primes_v2(num)\n",
    "print(\"Time for Method 2\", round(time.time() - t0, 4), \"Seconds\")\n",
    "\n",
    "t0 = time.time()\n",
    "get_primes_v3(num)\n",
    "print(\"Time for Method 3\", round(time.time() - t0, 4), \"Seconds\")\n",
    "\n",
    "t0 = time.time()\n",
    "get_primes_v4(num)\n",
    "print(\"Time for Method 4\", round(time.time() - t0, 4), \"Seconds\")\n",
    "\n",
    "t0 = time.time()\n",
    "get_primes_v5(num)\n",
    "print(\"Time for Method 5\", round(time.time() - t0, 6), \"Seconds\")\n",
    "\n",
    "t0 = time.time()\n",
    "get_primes_v5(10000000)\n",
    "print(\"Time for Method 5 to get to 10 Million\", round(time.time() - t0, 6), \"Seconds\")"
   ]
  },
  {
   "cell_type": "markdown",
   "metadata": {},
   "source": [
    "As we can see, each method improves on the efficiency of the one before it, lowing the time dramatically and finally coming to a well optimised algorithm to solve the problem.\n",
    "\n",
    "We can see how much better Method 5 is as it can compute values up to 10 Million over 3x as fast as it takes the original method to reacth 20000"
   ]
  },
  {
   "cell_type": "code",
   "execution_count": null,
   "metadata": {},
   "outputs": [],
   "source": []
  }
 ],
 "metadata": {
  "kernelspec": {
   "display_name": "Python 3",
   "language": "python",
   "name": "python3"
  },
  "language_info": {
   "codemirror_mode": {
    "name": "ipython",
    "version": 3
   },
   "file_extension": ".py",
   "mimetype": "text/x-python",
   "name": "python",
   "nbconvert_exporter": "python",
   "pygments_lexer": "ipython3",
   "version": "3.8.1"
  }
 },
 "nbformat": 4,
 "nbformat_minor": 4
}
